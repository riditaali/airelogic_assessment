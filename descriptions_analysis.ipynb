{
 "cells": [
  {
   "cell_type": "code",
   "execution_count": 1,
   "id": "88d08fdb",
   "metadata": {},
   "outputs": [],
   "source": [
    "import re #regular expression module\n",
    "import string\n",
    "import numpy as np\n",
    "import pandas as pd"
   ]
  },
  {
   "cell_type": "code",
   "execution_count": 2,
   "id": "a51d8899",
   "metadata": {},
   "outputs": [],
   "source": [
    "import statistics as stat\n",
    "import scipy.stats\n",
    "import matplotlib.pyplot as plt"
   ]
  },
  {
   "cell_type": "code",
   "execution_count": 3,
   "id": "8bb73042",
   "metadata": {},
   "outputs": [],
   "source": [
    "document_text = open('lyrics.txt', 'r')\n",
    "text_string = document_text.read().lower()"
   ]
  },
  {
   "cell_type": "code",
   "execution_count": 4,
   "id": "a7fd2c84",
   "metadata": {},
   "outputs": [
    {
     "data": {
      "text/plain": [
       "\"artist: coldplay\\n\\nlyrics: {\\n\\twhen you try your best, but you don't succeed, when you get what you want but not what you need, when you feel so tired, but you can't sleep, stuck in reverse, and the tears come streaming down your face, when you lose something, you can't replace, when you love someone, but it goes to waste, could it be worse? lights will guide you home, and ignite your bones, and i will try to fix you, and high up above or down below, when you're too in love to let it go, but if you never try, you'll never know, just what you're worth, lights will guide you home, and ignite your bones, and i will try to fix you, tears stream down your face, when you lose something, you cannot replace, tears stream down your face and i, tears stream down your face, i promise you, i will learn from my mistakes, tears stream down your face and i, lights will guide you home, and ignite your bones, and i will try to fix you\\n\\twoah, oh, oh-oh, oh, woah, oh, oh-oh, oh, woah, oh, oh-oh, oh, woah, oh, oh-oh, oh, i used to rule the world, seas would rise when i gave the word, now in the morning i sleep alone, sweep the streets i used to own, i used to roll the dice, feel the fear in my enemy's eyes, listen as the crowd would sing, now the old king is dead! long live the king! one minute i held the key, next the walls were closed on me, i discovered that my castles stand, upon pillars of salt and pillars of sand, i hear jerusalem bells are ringing, roman calvary choirs are singing, be my mirror, my sword and shield, missionaries in a foreign field, for some reason i can't explain, once you go there was never, never an honest word, that was when i ruled the world, it was the wicked and wild wind, blew down the doors to let me in, the shattered windows and the sound of drums, people couldn't believe what i'd become, revolutionaries wait, for my head on a silver plate, i'm just a puppet on a lonely string, oh who would ever want to be king? now i hear jerusalem bells are ringing, roman calvary choirs are singing, be my mirror, my sword and shield, missionaries in a foreign field, for some reason i can't explain, i know saint peter won't call my name, never an honest word, that was when i ruled the world, woah, oh, oh-oh, oh, woah, oh, oh-oh, oh, woah, oh, oh-oh, oh, woah, oh, oh-oh, oh, woah, oh, oh-oh, i hear jerusalem bells are ringing, roman calvary choirs are singing, be my mirror, my sword and shield, missionaries in a foreign field, for some reason i can't explain, i know saint peter won't call my name, never an honest word, that was when i ruled the world, woah, oh, oh-oh, oh, woah, oh, oh-oh, oh, woah, oh, oh-oh, oh, woah, oh, oh-oh, oh, woah, oh, oh-oh, oh, woah, oh, oh-oh, oh, woah, oh, oh-oh, oh, woah, oh, oh-oh, oh\\n}\""
      ]
     },
     "execution_count": 4,
     "metadata": {},
     "output_type": "execute_result"
    }
   ],
   "source": [
    "text_string"
   ]
  },
  {
   "cell_type": "code",
   "execution_count": 6,
   "id": "d625367c",
   "metadata": {},
   "outputs": [
    {
     "data": {
      "text/plain": [
       "['artist',\n",
       " 'coldplay',\n",
       " 'lyrics',\n",
       " 'when',\n",
       " 'you',\n",
       " 'try',\n",
       " 'your',\n",
       " 'best',\n",
       " 'but',\n",
       " 'you',\n",
       " 'don',\n",
       " 'succeed',\n",
       " 'when',\n",
       " 'you',\n",
       " 'get',\n",
       " 'what',\n",
       " 'you',\n",
       " 'want',\n",
       " 'but',\n",
       " 'not',\n",
       " 'what',\n",
       " 'you',\n",
       " 'need',\n",
       " 'when',\n",
       " 'you',\n",
       " 'feel',\n",
       " 'so',\n",
       " 'tired',\n",
       " 'but',\n",
       " 'you',\n",
       " 'can',\n",
       " 'sleep',\n",
       " 'stuck',\n",
       " 'in',\n",
       " 'reverse',\n",
       " 'and',\n",
       " 'the',\n",
       " 'tears',\n",
       " 'come',\n",
       " 'streaming',\n",
       " 'down',\n",
       " 'your',\n",
       " 'face',\n",
       " 'when',\n",
       " 'you',\n",
       " 'lose',\n",
       " 'something',\n",
       " 'you',\n",
       " 'can',\n",
       " 'replace',\n",
       " 'when',\n",
       " 'you',\n",
       " 'love',\n",
       " 'someone',\n",
       " 'but',\n",
       " 'it',\n",
       " 'goes',\n",
       " 'to',\n",
       " 'waste',\n",
       " 'could',\n",
       " 'it',\n",
       " 'be',\n",
       " 'worse',\n",
       " 'lights',\n",
       " 'will',\n",
       " 'guide',\n",
       " 'you',\n",
       " 'home',\n",
       " 'and',\n",
       " 'ignite',\n",
       " 'your',\n",
       " 'bones',\n",
       " 'and',\n",
       " 'will',\n",
       " 'try',\n",
       " 'to',\n",
       " 'fix',\n",
       " 'you',\n",
       " 'and',\n",
       " 'high',\n",
       " 'up',\n",
       " 'above',\n",
       " 'or',\n",
       " 'down',\n",
       " 'below',\n",
       " 'when',\n",
       " 'you',\n",
       " 're',\n",
       " 'too',\n",
       " 'in',\n",
       " 'love',\n",
       " 'to',\n",
       " 'let',\n",
       " 'it',\n",
       " 'go',\n",
       " 'but',\n",
       " 'if',\n",
       " 'you',\n",
       " 'never',\n",
       " 'try',\n",
       " 'you',\n",
       " 'll',\n",
       " 'never',\n",
       " 'know',\n",
       " 'just',\n",
       " 'what',\n",
       " 'you',\n",
       " 're',\n",
       " 'worth',\n",
       " 'lights',\n",
       " 'will',\n",
       " 'guide',\n",
       " 'you',\n",
       " 'home',\n",
       " 'and',\n",
       " 'ignite',\n",
       " 'your',\n",
       " 'bones',\n",
       " 'and',\n",
       " 'will',\n",
       " 'try',\n",
       " 'to',\n",
       " 'fix',\n",
       " 'you',\n",
       " 'tears',\n",
       " 'stream',\n",
       " 'down',\n",
       " 'your',\n",
       " 'face',\n",
       " 'when',\n",
       " 'you',\n",
       " 'lose',\n",
       " 'something',\n",
       " 'you',\n",
       " 'cannot',\n",
       " 'replace',\n",
       " 'tears',\n",
       " 'stream',\n",
       " 'down',\n",
       " 'your',\n",
       " 'face',\n",
       " 'and',\n",
       " 'tears',\n",
       " 'stream',\n",
       " 'down',\n",
       " 'your',\n",
       " 'face',\n",
       " 'promise',\n",
       " 'you',\n",
       " 'will',\n",
       " 'learn',\n",
       " 'from',\n",
       " 'my',\n",
       " 'mistakes',\n",
       " 'tears',\n",
       " 'stream',\n",
       " 'down',\n",
       " 'your',\n",
       " 'face',\n",
       " 'and',\n",
       " 'lights',\n",
       " 'will',\n",
       " 'guide',\n",
       " 'you',\n",
       " 'home',\n",
       " 'and',\n",
       " 'ignite',\n",
       " 'your',\n",
       " 'bones',\n",
       " 'and',\n",
       " 'will',\n",
       " 'try',\n",
       " 'to',\n",
       " 'fix',\n",
       " 'you',\n",
       " 'woah',\n",
       " 'oh',\n",
       " 'oh',\n",
       " 'oh',\n",
       " 'oh',\n",
       " 'woah',\n",
       " 'oh',\n",
       " 'oh',\n",
       " 'oh',\n",
       " 'oh',\n",
       " 'woah',\n",
       " 'oh',\n",
       " 'oh',\n",
       " 'oh',\n",
       " 'oh',\n",
       " 'woah',\n",
       " 'oh',\n",
       " 'oh',\n",
       " 'oh',\n",
       " 'oh',\n",
       " 'used',\n",
       " 'to',\n",
       " 'rule',\n",
       " 'the',\n",
       " 'world',\n",
       " 'seas',\n",
       " 'would',\n",
       " 'rise',\n",
       " 'when',\n",
       " 'gave',\n",
       " 'the',\n",
       " 'word',\n",
       " 'now',\n",
       " 'in',\n",
       " 'the',\n",
       " 'morning',\n",
       " 'sleep',\n",
       " 'alone',\n",
       " 'sweep',\n",
       " 'the',\n",
       " 'streets',\n",
       " 'used',\n",
       " 'to',\n",
       " 'own',\n",
       " 'used',\n",
       " 'to',\n",
       " 'roll',\n",
       " 'the',\n",
       " 'dice',\n",
       " 'feel',\n",
       " 'the',\n",
       " 'fear',\n",
       " 'in',\n",
       " 'my',\n",
       " 'enemy',\n",
       " 'eyes',\n",
       " 'listen',\n",
       " 'as',\n",
       " 'the',\n",
       " 'crowd',\n",
       " 'would',\n",
       " 'sing',\n",
       " 'now',\n",
       " 'the',\n",
       " 'old',\n",
       " 'king',\n",
       " 'is',\n",
       " 'dead',\n",
       " 'long',\n",
       " 'live',\n",
       " 'the',\n",
       " 'king',\n",
       " 'one',\n",
       " 'minute',\n",
       " 'held',\n",
       " 'the',\n",
       " 'key',\n",
       " 'next',\n",
       " 'the',\n",
       " 'walls',\n",
       " 'were',\n",
       " 'closed',\n",
       " 'on',\n",
       " 'me',\n",
       " 'discovered',\n",
       " 'that',\n",
       " 'my',\n",
       " 'castles',\n",
       " 'stand',\n",
       " 'upon',\n",
       " 'pillars',\n",
       " 'of',\n",
       " 'salt',\n",
       " 'and',\n",
       " 'pillars',\n",
       " 'of',\n",
       " 'sand',\n",
       " 'hear',\n",
       " 'jerusalem',\n",
       " 'bells',\n",
       " 'are',\n",
       " 'ringing',\n",
       " 'roman',\n",
       " 'calvary',\n",
       " 'choirs',\n",
       " 'are',\n",
       " 'singing',\n",
       " 'be',\n",
       " 'my',\n",
       " 'mirror',\n",
       " 'my',\n",
       " 'sword',\n",
       " 'and',\n",
       " 'shield',\n",
       " 'missionaries',\n",
       " 'in',\n",
       " 'foreign',\n",
       " 'field',\n",
       " 'for',\n",
       " 'some',\n",
       " 'reason',\n",
       " 'can',\n",
       " 'explain',\n",
       " 'once',\n",
       " 'you',\n",
       " 'go',\n",
       " 'there',\n",
       " 'was',\n",
       " 'never',\n",
       " 'never',\n",
       " 'an',\n",
       " 'honest',\n",
       " 'word',\n",
       " 'that',\n",
       " 'was',\n",
       " 'when',\n",
       " 'ruled',\n",
       " 'the',\n",
       " 'world',\n",
       " 'it',\n",
       " 'was',\n",
       " 'the',\n",
       " 'wicked',\n",
       " 'and',\n",
       " 'wild',\n",
       " 'wind',\n",
       " 'blew',\n",
       " 'down',\n",
       " 'the',\n",
       " 'doors',\n",
       " 'to',\n",
       " 'let',\n",
       " 'me',\n",
       " 'in',\n",
       " 'the',\n",
       " 'shattered',\n",
       " 'windows',\n",
       " 'and',\n",
       " 'the',\n",
       " 'sound',\n",
       " 'of',\n",
       " 'drums',\n",
       " 'people',\n",
       " 'couldn',\n",
       " 'believe',\n",
       " 'what',\n",
       " 'become',\n",
       " 'revolutionaries',\n",
       " 'wait',\n",
       " 'for',\n",
       " 'my',\n",
       " 'head',\n",
       " 'on',\n",
       " 'silver',\n",
       " 'plate',\n",
       " 'just',\n",
       " 'puppet',\n",
       " 'on',\n",
       " 'lonely',\n",
       " 'string',\n",
       " 'oh',\n",
       " 'who',\n",
       " 'would',\n",
       " 'ever',\n",
       " 'want',\n",
       " 'to',\n",
       " 'be',\n",
       " 'king',\n",
       " 'now',\n",
       " 'hear',\n",
       " 'jerusalem',\n",
       " 'bells',\n",
       " 'are',\n",
       " 'ringing',\n",
       " 'roman',\n",
       " 'calvary',\n",
       " 'choirs',\n",
       " 'are',\n",
       " 'singing',\n",
       " 'be',\n",
       " 'my',\n",
       " 'mirror',\n",
       " 'my',\n",
       " 'sword',\n",
       " 'and',\n",
       " 'shield',\n",
       " 'missionaries',\n",
       " 'in',\n",
       " 'foreign',\n",
       " 'field',\n",
       " 'for',\n",
       " 'some',\n",
       " 'reason',\n",
       " 'can',\n",
       " 'explain',\n",
       " 'know',\n",
       " 'saint',\n",
       " 'peter',\n",
       " 'won',\n",
       " 'call',\n",
       " 'my',\n",
       " 'name',\n",
       " 'never',\n",
       " 'an',\n",
       " 'honest',\n",
       " 'word',\n",
       " 'that',\n",
       " 'was',\n",
       " 'when',\n",
       " 'ruled',\n",
       " 'the',\n",
       " 'world',\n",
       " 'woah',\n",
       " 'oh',\n",
       " 'oh',\n",
       " 'oh',\n",
       " 'oh',\n",
       " 'woah',\n",
       " 'oh',\n",
       " 'oh',\n",
       " 'oh',\n",
       " 'oh',\n",
       " 'woah',\n",
       " 'oh',\n",
       " 'oh',\n",
       " 'oh',\n",
       " 'oh',\n",
       " 'woah',\n",
       " 'oh',\n",
       " 'oh',\n",
       " 'oh',\n",
       " 'oh',\n",
       " 'woah',\n",
       " 'oh',\n",
       " 'oh',\n",
       " 'oh',\n",
       " 'hear',\n",
       " 'jerusalem',\n",
       " 'bells',\n",
       " 'are',\n",
       " 'ringing',\n",
       " 'roman',\n",
       " 'calvary',\n",
       " 'choirs',\n",
       " 'are',\n",
       " 'singing',\n",
       " 'be',\n",
       " 'my',\n",
       " 'mirror',\n",
       " 'my',\n",
       " 'sword',\n",
       " 'and',\n",
       " 'shield',\n",
       " 'missionaries',\n",
       " 'in',\n",
       " 'foreign',\n",
       " 'field',\n",
       " 'for',\n",
       " 'some',\n",
       " 'reason',\n",
       " 'can',\n",
       " 'explain',\n",
       " 'know',\n",
       " 'saint',\n",
       " 'peter',\n",
       " 'won',\n",
       " 'call',\n",
       " 'my',\n",
       " 'name',\n",
       " 'never',\n",
       " 'an',\n",
       " 'honest',\n",
       " 'word',\n",
       " 'that',\n",
       " 'was',\n",
       " 'when',\n",
       " 'ruled',\n",
       " 'the',\n",
       " 'world',\n",
       " 'woah',\n",
       " 'oh',\n",
       " 'oh',\n",
       " 'oh',\n",
       " 'oh',\n",
       " 'woah',\n",
       " 'oh',\n",
       " 'oh',\n",
       " 'oh',\n",
       " 'oh',\n",
       " 'woah',\n",
       " 'oh',\n",
       " 'oh',\n",
       " 'oh',\n",
       " 'oh',\n",
       " 'woah',\n",
       " 'oh',\n",
       " 'oh',\n",
       " 'oh',\n",
       " 'oh',\n",
       " 'woah',\n",
       " 'oh',\n",
       " 'oh',\n",
       " 'oh',\n",
       " 'oh',\n",
       " 'woah',\n",
       " 'oh',\n",
       " 'oh',\n",
       " 'oh',\n",
       " 'oh',\n",
       " 'woah',\n",
       " 'oh',\n",
       " 'oh',\n",
       " 'oh',\n",
       " 'oh',\n",
       " 'woah',\n",
       " 'oh',\n",
       " 'oh',\n",
       " 'oh',\n",
       " 'oh']"
      ]
     },
     "execution_count": 6,
     "metadata": {},
     "output_type": "execute_result"
    }
   ],
   "source": [
    "match_pattern = re.findall(r'\\b[a-z]{2,15}\\b', text_string) #detect words that have 2 min characters & 15 max characters  \n",
    "match_pattern"
   ]
  },
  {
   "cell_type": "code",
   "execution_count": 7,
   "id": "6d2e30be",
   "metadata": {},
   "outputs": [],
   "source": [
    "frequency = {}\n",
    "\n",
    "for word in match_pattern:\n",
    "    count = frequency.get(word, 0)\n",
    "    frequency[word] = count + 1\n",
    "     \n",
    "frequency_list = frequency.keys()"
   ]
  },
  {
   "cell_type": "code",
   "execution_count": 8,
   "id": "15004a0d",
   "metadata": {},
   "outputs": [
    {
     "name": "stdout",
     "output_type": "stream",
     "text": [
      "artist 1\n",
      "coldplay 1\n",
      "lyrics 1\n",
      "when 11\n",
      "you 24\n",
      "try 5\n",
      "your 9\n",
      "best 1\n",
      "but 5\n",
      "don 1\n",
      "succeed 1\n",
      "get 1\n",
      "what 4\n",
      "want 2\n",
      "not 1\n",
      "need 1\n",
      "feel 2\n",
      "so 1\n",
      "tired 1\n",
      "can 5\n",
      "sleep 2\n",
      "stuck 1\n",
      "in 8\n",
      "reverse 1\n",
      "and 16\n",
      "the 19\n",
      "tears 5\n",
      "come 1\n",
      "streaming 1\n",
      "down 7\n",
      "face 5\n",
      "lose 2\n",
      "something 2\n",
      "replace 2\n",
      "love 2\n",
      "someone 1\n",
      "it 4\n",
      "goes 1\n",
      "to 10\n",
      "waste 1\n",
      "could 1\n",
      "be 5\n",
      "worse 1\n",
      "lights 3\n",
      "will 7\n",
      "guide 3\n",
      "home 3\n",
      "ignite 3\n",
      "bones 3\n",
      "fix 3\n",
      "high 1\n",
      "up 1\n",
      "above 1\n",
      "or 1\n",
      "below 1\n",
      "re 2\n",
      "too 1\n",
      "let 2\n",
      "go 2\n",
      "if 1\n",
      "never 6\n",
      "ll 1\n",
      "know 3\n",
      "just 2\n",
      "worth 1\n",
      "stream 4\n",
      "cannot 1\n",
      "promise 1\n",
      "learn 1\n",
      "from 1\n",
      "my 12\n",
      "mistakes 1\n",
      "woah 17\n",
      "oh 68\n",
      "used 3\n",
      "rule 1\n",
      "world 4\n",
      "seas 1\n",
      "would 3\n",
      "rise 1\n",
      "gave 1\n",
      "word 4\n",
      "now 3\n",
      "morning 1\n",
      "alone 1\n",
      "sweep 1\n",
      "streets 1\n",
      "own 1\n",
      "roll 1\n",
      "dice 1\n",
      "fear 1\n",
      "enemy 1\n",
      "eyes 1\n",
      "listen 1\n",
      "as 1\n",
      "crowd 1\n",
      "sing 1\n",
      "old 1\n",
      "king 3\n",
      "is 1\n",
      "dead 1\n",
      "long 1\n",
      "live 1\n",
      "one 1\n",
      "minute 1\n",
      "held 1\n",
      "key 1\n",
      "next 1\n",
      "walls 1\n",
      "were 1\n",
      "closed 1\n",
      "on 3\n",
      "me 2\n",
      "discovered 1\n",
      "that 4\n",
      "castles 1\n",
      "stand 1\n",
      "upon 1\n",
      "pillars 2\n",
      "of 3\n",
      "salt 1\n",
      "sand 1\n",
      "hear 3\n",
      "jerusalem 3\n",
      "bells 3\n",
      "are 6\n",
      "ringing 3\n",
      "roman 3\n",
      "calvary 3\n",
      "choirs 3\n",
      "singing 3\n",
      "mirror 3\n",
      "sword 3\n",
      "shield 3\n",
      "missionaries 3\n",
      "foreign 3\n",
      "field 3\n",
      "for 4\n",
      "some 3\n",
      "reason 3\n",
      "explain 3\n",
      "once 1\n",
      "there 1\n",
      "was 5\n",
      "an 3\n",
      "honest 3\n",
      "ruled 3\n",
      "wicked 1\n",
      "wild 1\n",
      "wind 1\n",
      "blew 1\n",
      "doors 1\n",
      "shattered 1\n",
      "windows 1\n",
      "sound 1\n",
      "drums 1\n",
      "people 1\n",
      "couldn 1\n",
      "believe 1\n",
      "become 1\n",
      "revolutionaries 1\n",
      "wait 1\n",
      "head 1\n",
      "silver 1\n",
      "plate 1\n",
      "puppet 1\n",
      "lonely 1\n",
      "string 1\n",
      "who 1\n",
      "ever 1\n",
      "saint 2\n",
      "peter 2\n",
      "won 2\n",
      "call 2\n",
      "name 2\n"
     ]
    }
   ],
   "source": [
    "num = []\n",
    "\n",
    "for words in frequency_list:\n",
    "    frnum = frequency[words]\n",
    "    num.append(frnum)\n",
    "    print(words, frequency[words])"
   ]
  },
  {
   "cell_type": "code",
   "execution_count": 9,
   "id": "d564e6e0",
   "metadata": {},
   "outputs": [],
   "source": [
    "#sum of all the words\n",
    "total_words = sum(num)"
   ]
  },
  {
   "cell_type": "code",
   "execution_count": 10,
   "id": "85f57aba",
   "metadata": {},
   "outputs": [
    {
     "name": "stdout",
     "output_type": "stream",
     "text": [
      "dict_keys(['artist', 'coldplay', 'lyrics', 'when', 'you', 'try', 'your', 'best', 'but', 'don', 'succeed', 'get', 'what', 'want', 'not', 'need', 'feel', 'so', 'tired', 'can', 'sleep', 'stuck', 'in', 'reverse', 'and', 'the', 'tears', 'come', 'streaming', 'down', 'face', 'lose', 'something', 'replace', 'love', 'someone', 'it', 'goes', 'to', 'waste', 'could', 'be', 'worse', 'lights', 'will', 'guide', 'home', 'ignite', 'bones', 'fix', 'high', 'up', 'above', 'or', 'below', 're', 'too', 'let', 'go', 'if', 'never', 'll', 'know', 'just', 'worth', 'stream', 'cannot', 'promise', 'learn', 'from', 'my', 'mistakes', 'woah', 'oh', 'used', 'rule', 'world', 'seas', 'would', 'rise', 'gave', 'word', 'now', 'morning', 'alone', 'sweep', 'streets', 'own', 'roll', 'dice', 'fear', 'enemy', 'eyes', 'listen', 'as', 'crowd', 'sing', 'old', 'king', 'is', 'dead', 'long', 'live', 'one', 'minute', 'held', 'key', 'next', 'walls', 'were', 'closed', 'on', 'me', 'discovered', 'that', 'castles', 'stand', 'upon', 'pillars', 'of', 'salt', 'sand', 'hear', 'jerusalem', 'bells', 'are', 'ringing', 'roman', 'calvary', 'choirs', 'singing', 'mirror', 'sword', 'shield', 'missionaries', 'foreign', 'field', 'for', 'some', 'reason', 'explain', 'once', 'there', 'was', 'an', 'honest', 'ruled', 'wicked', 'wild', 'wind', 'blew', 'doors', 'shattered', 'windows', 'sound', 'drums', 'people', 'couldn', 'believe', 'become', 'revolutionaries', 'wait', 'head', 'silver', 'plate', 'puppet', 'lonely', 'string', 'who', 'ever', 'saint', 'peter', 'won', 'call', 'name'])\n",
      "[1, 1, 1, 11, 24, 5, 9, 1, 5, 1, 1, 1, 4, 2, 1, 1, 2, 1, 1, 5, 2, 1, 8, 1, 16, 19, 5, 1, 1, 7, 5, 2, 2, 2, 2, 1, 4, 1, 10, 1, 1, 5, 1, 3, 7, 3, 3, 3, 3, 3, 1, 1, 1, 1, 1, 2, 1, 2, 2, 1, 6, 1, 3, 2, 1, 4, 1, 1, 1, 1, 12, 1, 17, 68, 3, 1, 4, 1, 3, 1, 1, 4, 3, 1, 1, 1, 1, 1, 1, 1, 1, 1, 1, 1, 1, 1, 1, 1, 3, 1, 1, 1, 1, 1, 1, 1, 1, 1, 1, 1, 1, 3, 2, 1, 4, 1, 1, 1, 2, 3, 1, 1, 3, 3, 3, 6, 3, 3, 3, 3, 3, 3, 3, 3, 3, 3, 3, 4, 3, 3, 3, 1, 1, 5, 3, 3, 3, 1, 1, 1, 1, 1, 1, 1, 1, 1, 1, 1, 1, 1, 1, 1, 1, 1, 1, 1, 1, 1, 1, 1, 2, 2, 2, 2, 2]\n",
      "514\n"
     ]
    }
   ],
   "source": [
    "print(frequency_list) #all the words in the lyrics\n",
    "print(num) #frequency of occurence\n",
    "print(total_words) #total occurences"
   ]
  },
  {
   "cell_type": "code",
   "execution_count": 11,
   "id": "f62f2dde",
   "metadata": {},
   "outputs": [
    {
     "name": "stdout",
     "output_type": "stream",
     "text": [
      "Number of words in lyrics of a song: 513\n"
     ]
    }
   ],
   "source": [
    "lyrics_words = total_words - 1 # subtract the name of the artist\n",
    "print('Number of words in lyrics of a song:', lyrics_words)"
   ]
  },
  {
   "cell_type": "code",
   "execution_count": 12,
   "id": "5a6c3c2d",
   "metadata": {},
   "outputs": [
    {
     "name": "stdout",
     "output_type": "stream",
     "text": [
      "Average number of words in lyrics of a song: 257.0\n"
     ]
    }
   ],
   "source": [
    "#average words in a song\n",
    "# total number of words / number of songs\n",
    "average_lyrics_words = total_words / 2 #there are two songs\n",
    "print('Average number of words in lyrics of a song:', average_lyrics_words)"
   ]
  },
  {
   "cell_type": "markdown",
   "id": "5c5fc396",
   "metadata": {},
   "source": [
    "## Next Tasks"
   ]
  },
  {
   "cell_type": "code",
   "execution_count": 13,
   "id": "07ab45cd",
   "metadata": {},
   "outputs": [],
   "source": [
    "songs_df = pd.read_csv('artists_songs.csv')"
   ]
  },
  {
   "cell_type": "code",
   "execution_count": 14,
   "id": "7f60df95",
   "metadata": {},
   "outputs": [
    {
     "data": {
      "text/html": [
       "<div>\n",
       "<style scoped>\n",
       "    .dataframe tbody tr th:only-of-type {\n",
       "        vertical-align: middle;\n",
       "    }\n",
       "\n",
       "    .dataframe tbody tr th {\n",
       "        vertical-align: top;\n",
       "    }\n",
       "\n",
       "    .dataframe thead th {\n",
       "        text-align: right;\n",
       "    }\n",
       "</style>\n",
       "<table border=\"1\" class=\"dataframe\">\n",
       "  <thead>\n",
       "    <tr style=\"text-align: right;\">\n",
       "      <th></th>\n",
       "      <th>Artist</th>\n",
       "      <th>Title</th>\n",
       "      <th>Lyrics</th>\n",
       "    </tr>\n",
       "  </thead>\n",
       "  <tbody>\n",
       "    <tr>\n",
       "      <th>0</th>\n",
       "      <td>Coldplay</td>\n",
       "      <td>Fix You</td>\n",
       "      <td>When you try your best, but you don't succeed,...</td>\n",
       "    </tr>\n",
       "    <tr>\n",
       "      <th>1</th>\n",
       "      <td>Coldplay</td>\n",
       "      <td>Viva La Vida</td>\n",
       "      <td>Woah, oh, oh-oh, oh, Woah, oh, oh-oh, oh, Woah...</td>\n",
       "    </tr>\n",
       "    <tr>\n",
       "      <th>2</th>\n",
       "      <td>EdSheeran</td>\n",
       "      <td>Shape Of You</td>\n",
       "      <td>The club isn't the best place to find a lover,...</td>\n",
       "    </tr>\n",
       "    <tr>\n",
       "      <th>3</th>\n",
       "      <td>PinkFloyd</td>\n",
       "      <td>Shine On You Crazy Diamond</td>\n",
       "      <td>Remember when you were young, you shone like t...</td>\n",
       "    </tr>\n",
       "    <tr>\n",
       "      <th>4</th>\n",
       "      <td>PinkFloyd</td>\n",
       "      <td>The Great Gig in the Sky</td>\n",
       "      <td>And I am not frightened of dying, Any time wil...</td>\n",
       "    </tr>\n",
       "    <tr>\n",
       "      <th>5</th>\n",
       "      <td>PinkFloyd</td>\n",
       "      <td>Have A Cigar</td>\n",
       "      <td>Come in here, dear boy, have a cigar, You're g...</td>\n",
       "    </tr>\n",
       "  </tbody>\n",
       "</table>\n",
       "</div>"
      ],
      "text/plain": [
       "      Artist                       Title  \\\n",
       "0   Coldplay                     Fix You   \n",
       "1   Coldplay                Viva La Vida   \n",
       "2  EdSheeran                Shape Of You   \n",
       "3  PinkFloyd  Shine On You Crazy Diamond   \n",
       "4  PinkFloyd    The Great Gig in the Sky   \n",
       "5  PinkFloyd                Have A Cigar   \n",
       "\n",
       "                                              Lyrics  \n",
       "0  When you try your best, but you don't succeed,...  \n",
       "1  Woah, oh, oh-oh, oh, Woah, oh, oh-oh, oh, Woah...  \n",
       "2  The club isn't the best place to find a lover,...  \n",
       "3  Remember when you were young, you shone like t...  \n",
       "4  And I am not frightened of dying, Any time wil...  \n",
       "5  Come in here, dear boy, have a cigar, You're g...  "
      ]
     },
     "execution_count": 14,
     "metadata": {},
     "output_type": "execute_result"
    }
   ],
   "source": [
    "songs_df"
   ]
  },
  {
   "cell_type": "code",
   "execution_count": 15,
   "id": "10d2c2de",
   "metadata": {},
   "outputs": [],
   "source": [
    "#converting the capital letters to lower cases\n",
    "songs_df[\"Artist\"]= songs_df[\"Artist\"].str.lower() \n",
    "songs_df[\"Title\"]= songs_df[\"Title\"].str.lower()\n",
    "songs_df[\"Lyrics\"]= songs_df[\"Lyrics\"].str.lower()"
   ]
  },
  {
   "cell_type": "code",
   "execution_count": 16,
   "id": "d326259b",
   "metadata": {},
   "outputs": [
    {
     "data": {
      "text/html": [
       "<div>\n",
       "<style scoped>\n",
       "    .dataframe tbody tr th:only-of-type {\n",
       "        vertical-align: middle;\n",
       "    }\n",
       "\n",
       "    .dataframe tbody tr th {\n",
       "        vertical-align: top;\n",
       "    }\n",
       "\n",
       "    .dataframe thead th {\n",
       "        text-align: right;\n",
       "    }\n",
       "</style>\n",
       "<table border=\"1\" class=\"dataframe\">\n",
       "  <thead>\n",
       "    <tr style=\"text-align: right;\">\n",
       "      <th></th>\n",
       "      <th>Artist</th>\n",
       "      <th>Title</th>\n",
       "      <th>Lyrics</th>\n",
       "    </tr>\n",
       "  </thead>\n",
       "  <tbody>\n",
       "    <tr>\n",
       "      <th>0</th>\n",
       "      <td>coldplay</td>\n",
       "      <td>fix you</td>\n",
       "      <td>when you try your best, but you don't succeed,...</td>\n",
       "    </tr>\n",
       "    <tr>\n",
       "      <th>1</th>\n",
       "      <td>coldplay</td>\n",
       "      <td>viva la vida</td>\n",
       "      <td>woah, oh, oh-oh, oh, woah, oh, oh-oh, oh, woah...</td>\n",
       "    </tr>\n",
       "    <tr>\n",
       "      <th>2</th>\n",
       "      <td>edsheeran</td>\n",
       "      <td>shape of you</td>\n",
       "      <td>the club isn't the best place to find a lover,...</td>\n",
       "    </tr>\n",
       "    <tr>\n",
       "      <th>3</th>\n",
       "      <td>pinkfloyd</td>\n",
       "      <td>shine on you crazy diamond</td>\n",
       "      <td>remember when you were young, you shone like t...</td>\n",
       "    </tr>\n",
       "    <tr>\n",
       "      <th>4</th>\n",
       "      <td>pinkfloyd</td>\n",
       "      <td>the great gig in the sky</td>\n",
       "      <td>and i am not frightened of dying, any time wil...</td>\n",
       "    </tr>\n",
       "    <tr>\n",
       "      <th>5</th>\n",
       "      <td>pinkfloyd</td>\n",
       "      <td>have a cigar</td>\n",
       "      <td>come in here, dear boy, have a cigar, you're g...</td>\n",
       "    </tr>\n",
       "  </tbody>\n",
       "</table>\n",
       "</div>"
      ],
      "text/plain": [
       "      Artist                       Title  \\\n",
       "0   coldplay                     fix you   \n",
       "1   coldplay                viva la vida   \n",
       "2  edsheeran                shape of you   \n",
       "3  pinkfloyd  shine on you crazy diamond   \n",
       "4  pinkfloyd    the great gig in the sky   \n",
       "5  pinkfloyd                have a cigar   \n",
       "\n",
       "                                              Lyrics  \n",
       "0  when you try your best, but you don't succeed,...  \n",
       "1  woah, oh, oh-oh, oh, woah, oh, oh-oh, oh, woah...  \n",
       "2  the club isn't the best place to find a lover,...  \n",
       "3  remember when you were young, you shone like t...  \n",
       "4  and i am not frightened of dying, any time wil...  \n",
       "5  come in here, dear boy, have a cigar, you're g...  "
      ]
     },
     "execution_count": 16,
     "metadata": {},
     "output_type": "execute_result"
    }
   ],
   "source": [
    "songs_df"
   ]
  },
  {
   "cell_type": "code",
   "execution_count": 17,
   "id": "11f7eca2",
   "metadata": {},
   "outputs": [
    {
     "name": "stdout",
     "output_type": "stream",
     "text": [
      "0    False\n",
      "1    False\n",
      "2    False\n",
      "3     True\n",
      "4     True\n",
      "5     True\n",
      "Name: Artist, dtype: bool\n",
      "      Artist                       Title  \\\n",
      "3  pinkfloyd  shine on you crazy diamond   \n",
      "4  pinkfloyd    the great gig in the sky   \n",
      "5  pinkfloyd                have a cigar   \n",
      "\n",
      "                                              Lyrics  \n",
      "3  remember when you were young, you shone like t...  \n",
      "4  and i am not frightened of dying, any time wil...  \n",
      "5  come in here, dear boy, have a cigar, you're g...  \n",
      "      Artist                       Title  \\\n",
      "3  pinkfloyd  shine on you crazy diamond   \n",
      "4  pinkfloyd    the great gig in the sky   \n",
      "5  pinkfloyd                have a cigar   \n",
      "\n",
      "                                              Lyrics  \n",
      "3  remember when you were young, you shone like t...  \n",
      "4  and i am not frightened of dying, any time wil...  \n",
      "5  come in here, dear boy, have a cigar, you're g...  \n"
     ]
    }
   ],
   "source": [
    "#find the row number where each singer is located\n",
    "#this can be done in three ways\n",
    "\n",
    "filter1 = songs_df[\"Artist\"]==\"pinkfloyd\"\n",
    "print(filter1)\n",
    "filter2 = songs_df[songs_df['Artist'].str.contains(\"pinkfloyd\")]\n",
    "print(filter2)\n",
    "filter3 = songs_df.loc[songs_df['Artist'] == 'pinkfloyd']\n",
    "print(filter3)"
   ]
  },
  {
   "cell_type": "markdown",
   "id": "fdcb1441",
   "metadata": {},
   "source": [
    "#### First code indicates row number by True or False where each singer can be located"
   ]
  },
  {
   "cell_type": "markdown",
   "id": "d5158111",
   "metadata": {},
   "source": [
    "#### Second and Third code display the same thing, just by different techniques of location in Dataframe"
   ]
  },
  {
   "cell_type": "code",
   "execution_count": 18,
   "id": "0720834f",
   "metadata": {},
   "outputs": [
    {
     "name": "stdout",
     "output_type": "stream",
     "text": [
      "coldplay\n"
     ]
    }
   ],
   "source": [
    "#code for locating the singers\n",
    "print(songs_df.iloc[0][0])"
   ]
  },
  {
   "cell_type": "code",
   "execution_count": 19,
   "id": "f1768e71",
   "metadata": {
    "scrolled": true
   },
   "outputs": [
    {
     "data": {
      "text/html": [
       "<div>\n",
       "<style scoped>\n",
       "    .dataframe tbody tr th:only-of-type {\n",
       "        vertical-align: middle;\n",
       "    }\n",
       "\n",
       "    .dataframe tbody tr th {\n",
       "        vertical-align: top;\n",
       "    }\n",
       "\n",
       "    .dataframe thead th {\n",
       "        text-align: right;\n",
       "    }\n",
       "</style>\n",
       "<table border=\"1\" class=\"dataframe\">\n",
       "  <thead>\n",
       "    <tr style=\"text-align: right;\">\n",
       "      <th></th>\n",
       "      <th>lyrics</th>\n",
       "    </tr>\n",
       "  </thead>\n",
       "  <tbody>\n",
       "    <tr>\n",
       "      <th>0</th>\n",
       "      <td>when you try your best, but you don't succeed,...</td>\n",
       "    </tr>\n",
       "    <tr>\n",
       "      <th>1</th>\n",
       "      <td>woah, oh, oh-oh, oh, woah, oh, oh-oh, oh, woah...</td>\n",
       "    </tr>\n",
       "  </tbody>\n",
       "</table>\n",
       "</div>"
      ],
      "text/plain": [
       "                                              lyrics\n",
       "0  when you try your best, but you don't succeed,...\n",
       "1  woah, oh, oh-oh, oh, woah, oh, oh-oh, oh, woah..."
      ]
     },
     "execution_count": 19,
     "metadata": {},
     "output_type": "execute_result"
    }
   ],
   "source": [
    "#If we are interested to know the lyrics of coldplay\n",
    "\n",
    "coldplay_lyrics = songs_df.iloc[0][2], songs_df.iloc[1][2]\n",
    "coldplay_lyrics_df = pd.DataFrame(coldplay_lyrics)\n",
    "coldplay_lyrics_df.columns = ['lyrics'] #naming the lyrics column\n",
    "coldplay_lyrics_df"
   ]
  },
  {
   "cell_type": "code",
   "execution_count": 22,
   "id": "f513c7e0",
   "metadata": {},
   "outputs": [
    {
     "data": {
      "text/html": [
       "<div>\n",
       "<style scoped>\n",
       "    .dataframe tbody tr th:only-of-type {\n",
       "        vertical-align: middle;\n",
       "    }\n",
       "\n",
       "    .dataframe tbody tr th {\n",
       "        vertical-align: top;\n",
       "    }\n",
       "\n",
       "    .dataframe thead th {\n",
       "        text-align: right;\n",
       "    }\n",
       "</style>\n",
       "<table border=\"1\" class=\"dataframe\">\n",
       "  <thead>\n",
       "    <tr style=\"text-align: right;\">\n",
       "      <th></th>\n",
       "      <th>lyrics</th>\n",
       "    </tr>\n",
       "  </thead>\n",
       "  <tbody>\n",
       "    <tr>\n",
       "      <th>0</th>\n",
       "      <td>remember when you were young, you shone like t...</td>\n",
       "    </tr>\n",
       "    <tr>\n",
       "      <th>1</th>\n",
       "      <td>and i am not frightened of dying, any time wil...</td>\n",
       "    </tr>\n",
       "    <tr>\n",
       "      <th>2</th>\n",
       "      <td>come in here, dear boy, have a cigar, you're g...</td>\n",
       "    </tr>\n",
       "  </tbody>\n",
       "</table>\n",
       "</div>"
      ],
      "text/plain": [
       "                                              lyrics\n",
       "0  remember when you were young, you shone like t...\n",
       "1  and i am not frightened of dying, any time wil...\n",
       "2  come in here, dear boy, have a cigar, you're g..."
      ]
     },
     "execution_count": 22,
     "metadata": {},
     "output_type": "execute_result"
    }
   ],
   "source": [
    "#As we are interested to know the lyrics of pinkfloyd now\n",
    "\n",
    "pinkfloyd_lyrics = songs_df.iloc[3][2], songs_df.iloc[4][2], songs_df.iloc[5][2]\n",
    "pinkfloyd_lyrics_df = pd.DataFrame(pinkfloyd_lyrics)\n",
    "pinkfloyd_lyrics_df.columns = ['lyrics']\n",
    "pinkfloyd_lyrics_df"
   ]
  },
  {
   "cell_type": "code",
   "execution_count": 23,
   "id": "73066708",
   "metadata": {
    "scrolled": false
   },
   "outputs": [
    {
     "name": "stderr",
     "output_type": "stream",
     "text": [
      "<ipython-input-23-16ea7f2c426b>:3: FutureWarning: The default value of regex will change from True to False in a future version.\n",
      "  coldplay_lyrics_df[\"lyrics_new\"] = coldplay_lyrics_df['lyrics'].str.lower().str.replace('[^\\w\\s]','')\n"
     ]
    },
    {
     "data": {
      "text/html": [
       "<div>\n",
       "<style scoped>\n",
       "    .dataframe tbody tr th:only-of-type {\n",
       "        vertical-align: middle;\n",
       "    }\n",
       "\n",
       "    .dataframe tbody tr th {\n",
       "        vertical-align: top;\n",
       "    }\n",
       "\n",
       "    .dataframe thead th {\n",
       "        text-align: right;\n",
       "    }\n",
       "</style>\n",
       "<table border=\"1\" class=\"dataframe\">\n",
       "  <thead>\n",
       "    <tr style=\"text-align: right;\">\n",
       "      <th></th>\n",
       "      <th>Word</th>\n",
       "      <th>Frequency</th>\n",
       "    </tr>\n",
       "  </thead>\n",
       "  <tbody>\n",
       "    <tr>\n",
       "      <th>0</th>\n",
       "      <td>oh</td>\n",
       "      <td>34</td>\n",
       "    </tr>\n",
       "    <tr>\n",
       "      <th>1</th>\n",
       "      <td>i</td>\n",
       "      <td>25</td>\n",
       "    </tr>\n",
       "    <tr>\n",
       "      <th>2</th>\n",
       "      <td>you</td>\n",
       "      <td>21</td>\n",
       "    </tr>\n",
       "    <tr>\n",
       "      <th>3</th>\n",
       "      <td>the</td>\n",
       "      <td>19</td>\n",
       "    </tr>\n",
       "    <tr>\n",
       "      <th>4</th>\n",
       "      <td>ohoh</td>\n",
       "      <td>17</td>\n",
       "    </tr>\n",
       "    <tr>\n",
       "      <th>...</th>\n",
       "      <td>...</td>\n",
       "      <td>...</td>\n",
       "    </tr>\n",
       "    <tr>\n",
       "      <th>172</th>\n",
       "      <td>there</td>\n",
       "      <td>1</td>\n",
       "    </tr>\n",
       "    <tr>\n",
       "      <th>173</th>\n",
       "      <td>need</td>\n",
       "      <td>1</td>\n",
       "    </tr>\n",
       "    <tr>\n",
       "      <th>174</th>\n",
       "      <td>were</td>\n",
       "      <td>1</td>\n",
       "    </tr>\n",
       "    <tr>\n",
       "      <th>175</th>\n",
       "      <td>stuck</td>\n",
       "      <td>1</td>\n",
       "    </tr>\n",
       "    <tr>\n",
       "      <th>176</th>\n",
       "      <td>people</td>\n",
       "      <td>1</td>\n",
       "    </tr>\n",
       "  </tbody>\n",
       "</table>\n",
       "<p>177 rows × 2 columns</p>\n",
       "</div>"
      ],
      "text/plain": [
       "       Word  Frequency\n",
       "0        oh         34\n",
       "1         i         25\n",
       "2       you         21\n",
       "3       the         19\n",
       "4      ohoh         17\n",
       "..      ...        ...\n",
       "172   there          1\n",
       "173    need          1\n",
       "174    were          1\n",
       "175   stuck          1\n",
       "176  people          1\n",
       "\n",
       "[177 rows x 2 columns]"
      ]
     },
     "execution_count": 23,
     "metadata": {},
     "output_type": "execute_result"
    }
   ],
   "source": [
    "#count the number of words in the lyrics by Pandas DataFrame method\n",
    "\n",
    "coldplay_lyrics_df[\"lyrics_new\"] = coldplay_lyrics_df['lyrics'].str.lower().str.replace('[^\\w\\s]','')\n",
    " \n",
    "coldplay_df = coldplay_lyrics_df.lyrics_new.str.split(expand=True).stack().value_counts().reset_index()\n",
    " \n",
    "coldplay_df.columns = ['Word', 'Frequency'] \n",
    " \n",
    "coldplay_df"
   ]
  },
  {
   "cell_type": "code",
   "execution_count": 24,
   "id": "7714e805",
   "metadata": {},
   "outputs": [
    {
     "name": "stderr",
     "output_type": "stream",
     "text": [
      "<ipython-input-24-5fae1abe2ee9>:1: FutureWarning: The default value of regex will change from True to False in a future version.\n",
      "  pinkfloyd_lyrics_df[\"lyrics_new\"] = pinkfloyd_lyrics_df['lyrics'].str.lower().str.replace('[^\\w\\s]','')\n"
     ]
    },
    {
     "data": {
      "text/html": [
       "<div>\n",
       "<style scoped>\n",
       "    .dataframe tbody tr th:only-of-type {\n",
       "        vertical-align: middle;\n",
       "    }\n",
       "\n",
       "    .dataframe tbody tr th {\n",
       "        vertical-align: top;\n",
       "    }\n",
       "\n",
       "    .dataframe thead th {\n",
       "        text-align: right;\n",
       "    }\n",
       "</style>\n",
       "<table border=\"1\" class=\"dataframe\">\n",
       "  <thead>\n",
       "    <tr style=\"text-align: right;\">\n",
       "      <th></th>\n",
       "      <th>Word</th>\n",
       "      <th>Frequency</th>\n",
       "    </tr>\n",
       "  </thead>\n",
       "  <tbody>\n",
       "    <tr>\n",
       "      <th>0</th>\n",
       "      <td>you</td>\n",
       "      <td>28</td>\n",
       "    </tr>\n",
       "    <tr>\n",
       "      <th>1</th>\n",
       "      <td>the</td>\n",
       "      <td>19</td>\n",
       "    </tr>\n",
       "    <tr>\n",
       "      <th>2</th>\n",
       "      <td>on</td>\n",
       "      <td>11</td>\n",
       "    </tr>\n",
       "    <tr>\n",
       "      <th>3</th>\n",
       "      <td>and</td>\n",
       "      <td>8</td>\n",
       "    </tr>\n",
       "    <tr>\n",
       "      <th>4</th>\n",
       "      <td>we</td>\n",
       "      <td>7</td>\n",
       "    </tr>\n",
       "    <tr>\n",
       "      <th>...</th>\n",
       "      <td>...</td>\n",
       "      <td>...</td>\n",
       "    </tr>\n",
       "    <tr>\n",
       "      <th>165</th>\n",
       "      <td>blown</td>\n",
       "      <td>1</td>\n",
       "    </tr>\n",
       "    <tr>\n",
       "      <th>166</th>\n",
       "      <td>too</td>\n",
       "      <td>1</td>\n",
       "    </tr>\n",
       "    <tr>\n",
       "      <th>167</th>\n",
       "      <td>secret</td>\n",
       "      <td>1</td>\n",
       "    </tr>\n",
       "    <tr>\n",
       "      <th>168</th>\n",
       "      <td>sincere</td>\n",
       "      <td>1</td>\n",
       "    </tr>\n",
       "    <tr>\n",
       "      <th>169</th>\n",
       "      <td>am</td>\n",
       "      <td>1</td>\n",
       "    </tr>\n",
       "  </tbody>\n",
       "</table>\n",
       "<p>170 rows × 2 columns</p>\n",
       "</div>"
      ],
      "text/plain": [
       "        Word  Frequency\n",
       "0        you         28\n",
       "1        the         19\n",
       "2         on         11\n",
       "3        and          8\n",
       "4         we          7\n",
       "..       ...        ...\n",
       "165    blown          1\n",
       "166      too          1\n",
       "167   secret          1\n",
       "168  sincere          1\n",
       "169       am          1\n",
       "\n",
       "[170 rows x 2 columns]"
      ]
     },
     "execution_count": 24,
     "metadata": {},
     "output_type": "execute_result"
    }
   ],
   "source": [
    "pinkfloyd_lyrics_df[\"lyrics_new\"] = pinkfloyd_lyrics_df['lyrics'].str.lower().str.replace('[^\\w\\s]','')\n",
    " \n",
    "pinkfloyd_df = pinkfloyd_lyrics_df.lyrics_new.str.split(expand=True).stack().value_counts().reset_index()\n",
    " \n",
    "pinkfloyd_df.columns = ['Word', 'Frequency'] \n",
    " \n",
    "pinkfloyd_df"
   ]
  },
  {
   "cell_type": "code",
   "execution_count": 25,
   "id": "5ce3546b",
   "metadata": {},
   "outputs": [
    {
     "name": "stdout",
     "output_type": "stream",
     "text": [
      "Total words:  524\n",
      "Average words:  262.0\n"
     ]
    }
   ],
   "source": [
    "total_coldplaywords = sum(coldplay_df.iloc[:,1])\n",
    "average_coldplaywords = total_coldplaywords / 2 #since we can see only 2 songs appear for coldplay\n",
    "print('Total words: ', total_coldplaywords)\n",
    "print('Average words: ', average_coldplaywords)"
   ]
  },
  {
   "cell_type": "code",
   "execution_count": 26,
   "id": "9b918385",
   "metadata": {},
   "outputs": [
    {
     "name": "stdout",
     "output_type": "stream",
     "text": [
      "Total words:  323\n",
      "Average words:  107.66666666666667\n"
     ]
    }
   ],
   "source": [
    "total_pinkfloydwords = sum(pinkfloyd_df.iloc[:,1])\n",
    "average_pinkfloydwords = total_pinkfloydwords / 3 #since we can see only 3 songs appear for pinkfloyd\n",
    "print('Total words: ', total_pinkfloydwords)\n",
    "print('Average words: ', average_pinkfloydwords)"
   ]
  },
  {
   "cell_type": "markdown",
   "id": "4f1f0045",
   "metadata": {},
   "source": [
    "### Observation: As it can be seen that Coldplay has more words in their lyrics compared to Pinkfloyd"
   ]
  },
  {
   "cell_type": "markdown",
   "id": "bf15dedc",
   "metadata": {},
   "source": [
    "## Alternatively"
   ]
  },
  {
   "cell_type": "markdown",
   "id": "5d48e429",
   "metadata": {},
   "source": [
    "#### If DataFrame is converted to txt format and the previous steps are followed"
   ]
  },
  {
   "cell_type": "code",
   "execution_count": 27,
   "id": "c75fd175",
   "metadata": {
    "scrolled": true
   },
   "outputs": [
    {
     "data": {
      "text/plain": [
       "(\"remember when you were young, you shone like the sun, shine on you crazy diamond, now there's a look in your eyes, like black holes in the sky, shine on you crazy diamond, you were caught on the crossfire of childhood and stardom, blown on the steel breeze, come on you target for faraway laughter, come on you stranger, you legend, you martyr, and shine, you reached for the secret too soon, you cried for the moon, shine on you crazy diamond, threatened by shadows at night, and exposed in the light, shine on you crazy diamond, well you wore out your welcome with random precision, rode on the steel breeze, come on you raver, you seer of visions, come on you painter, you piper, you prisoner, and shine\",\n",
       " \"and i am not frightened of dying, any time will do, i don't mind, why should i be frightened of dying? there's no reason for it, you've gotta go sometime, if you can hear this whispering you are dying\",\n",
       " \"come in here, dear boy, have a cigar, you're gonna go far, you're gonna fly, you're never gonna die, you're gonna make it if you try, they're gonna love you, well i've always had a deep respect, and i mean that most sincere, the band is just fantastic, that is really what i think, oh by the way, which one's pink? and did we tell you the name of the game, boy, we call it 'riding the gravy train', we're just knocked out, we heard about the sell out, you gotta get an album out, you owe it to the people, we're so happy we can hardly count, everybody else is just green, have you seen the chart? it's a helluva start, it could be made into a monster, if we all pull together as a team, and did we tell you the name of the game, boy, we call it 'riding the gravy train'\")"
      ]
     },
     "execution_count": 27,
     "metadata": {},
     "output_type": "execute_result"
    }
   ],
   "source": [
    "#depending on the number of rows that appear for each singer, the column/lyrics selection \"songs_df.iloc\" need to be adjusted\n",
    "#e.g. if there are 2 rows then that piece of code needs to be written twice below\n",
    "\n",
    "total_lyrics_tuple = songs_df.iloc[3][2], songs_df.iloc[4][2], songs_df.iloc[5][2]\n",
    "total_lyrics_tuple"
   ]
  },
  {
   "cell_type": "code",
   "execution_count": 28,
   "id": "0b61096c",
   "metadata": {},
   "outputs": [
    {
     "data": {
      "text/plain": [
       "tuple"
      ]
     },
     "execution_count": 28,
     "metadata": {},
     "output_type": "execute_result"
    }
   ],
   "source": [
    "type(total_lyrics_tuple)"
   ]
  },
  {
   "cell_type": "code",
   "execution_count": 29,
   "id": "d66c7791",
   "metadata": {},
   "outputs": [
    {
     "data": {
      "text/html": [
       "<div>\n",
       "<style scoped>\n",
       "    .dataframe tbody tr th:only-of-type {\n",
       "        vertical-align: middle;\n",
       "    }\n",
       "\n",
       "    .dataframe tbody tr th {\n",
       "        vertical-align: top;\n",
       "    }\n",
       "\n",
       "    .dataframe thead th {\n",
       "        text-align: right;\n",
       "    }\n",
       "</style>\n",
       "<table border=\"1\" class=\"dataframe\">\n",
       "  <thead>\n",
       "    <tr style=\"text-align: right;\">\n",
       "      <th></th>\n",
       "      <th>0</th>\n",
       "    </tr>\n",
       "  </thead>\n",
       "  <tbody>\n",
       "    <tr>\n",
       "      <th>0</th>\n",
       "      <td>remember when you were young, you shone like t...</td>\n",
       "    </tr>\n",
       "    <tr>\n",
       "      <th>1</th>\n",
       "      <td>and i am not frightened of dying, any time wil...</td>\n",
       "    </tr>\n",
       "    <tr>\n",
       "      <th>2</th>\n",
       "      <td>come in here, dear boy, have a cigar, you're g...</td>\n",
       "    </tr>\n",
       "  </tbody>\n",
       "</table>\n",
       "</div>"
      ],
      "text/plain": [
       "                                                   0\n",
       "0  remember when you were young, you shone like t...\n",
       "1  and i am not frightened of dying, any time wil...\n",
       "2  come in here, dear boy, have a cigar, you're g..."
      ]
     },
     "execution_count": 29,
     "metadata": {},
     "output_type": "execute_result"
    }
   ],
   "source": [
    "#tuple to dataframe\n",
    "total_lyrics_df = pd.DataFrame(total_lyrics_tuple)\n",
    "total_lyrics_df"
   ]
  },
  {
   "cell_type": "code",
   "execution_count": 30,
   "id": "fcd6648b",
   "metadata": {},
   "outputs": [],
   "source": [
    "#convert the dataframe to numpy then to txt file\n",
    "\n",
    "numpy_array = total_lyrics_df.to_numpy()\n",
    "np.savetxt(\"csv_to_txt.txt\", numpy_array, fmt = \"%s\")"
   ]
  },
  {
   "cell_type": "code",
   "execution_count": 31,
   "id": "199bc3fa",
   "metadata": {},
   "outputs": [],
   "source": [
    "new_doc = open('csv_to_txt.txt', 'r')"
   ]
  },
  {
   "cell_type": "code",
   "execution_count": 32,
   "id": "75fe3629",
   "metadata": {},
   "outputs": [],
   "source": [
    "new_text = new_doc.read().lower() # to check if everything is in lower-case"
   ]
  },
  {
   "cell_type": "code",
   "execution_count": 33,
   "id": "42685ee8",
   "metadata": {},
   "outputs": [],
   "source": [
    "match_pattern_new = re.findall(r'\\b[a-z]{2,35}\\b', new_text)"
   ]
  },
  {
   "cell_type": "code",
   "execution_count": 34,
   "id": "b6c1ba74",
   "metadata": {},
   "outputs": [],
   "source": [
    "frequency = {}\n",
    "\n",
    "for word in match_pattern_new:\n",
    "    count = frequency.get(word, 0)\n",
    "    frequency[word] = count + 1\n",
    "     \n",
    "frequency_list = frequency.keys()"
   ]
  },
  {
   "cell_type": "code",
   "execution_count": 35,
   "id": "70b7fc53",
   "metadata": {},
   "outputs": [
    {
     "name": "stdout",
     "output_type": "stream",
     "text": [
      "remember 1 8\n",
      "when 1 4\n",
      "you 33 3\n",
      "were 2 4\n",
      "young 1 5\n",
      "shone 1 5\n",
      "like 2 4\n",
      "the 19 3\n",
      "sun 1 3\n",
      "shine 6 5\n",
      "on 11 2\n",
      "crazy 4 5\n",
      "diamond 4 7\n",
      "now 1 3\n",
      "there 2 5\n",
      "look 1 4\n",
      "in 4 2\n",
      "your 2 4\n",
      "eyes 1 4\n",
      "black 1 5\n",
      "holes 1 5\n",
      "sky 1 3\n",
      "caught 1 6\n",
      "crossfire 1 9\n",
      "of 6 2\n",
      "childhood 1 9\n",
      "and 8 3\n",
      "stardom 1 7\n",
      "blown 1 5\n",
      "steel 2 5\n",
      "breeze 2 6\n",
      "come 5 4\n",
      "target 1 6\n",
      "for 4 3\n",
      "faraway 1 7\n",
      "laughter 1 8\n",
      "stranger 1 8\n",
      "legend 1 6\n",
      "martyr 1 6\n",
      "reached 1 7\n",
      "secret 1 6\n",
      "too 1 3\n",
      "soon 1 4\n",
      "cried 1 5\n",
      "moon 1 4\n",
      "threatened 1 10\n",
      "by 2 2\n",
      "shadows 1 7\n",
      "at 1 2\n",
      "night 1 5\n",
      "exposed 1 7\n",
      "light 1 5\n",
      "well 2 4\n",
      "wore 1 4\n",
      "out 4 3\n",
      "welcome 1 7\n",
      "with 1 4\n",
      "random 1 6\n",
      "precision 1 9\n",
      "rode 1 4\n",
      "raver 1 5\n",
      "seer 1 4\n",
      "visions 1 7\n",
      "painter 1 7\n",
      "piper 1 5\n",
      "prisoner 1 8\n",
      "am 1 2\n",
      "not 1 3\n",
      "frightened 2 10\n",
      "dying 3 5\n",
      "any 1 3\n",
      "time 1 4\n",
      "will 1 4\n",
      "do 1 2\n",
      "don 1 3\n",
      "mind 1 4\n",
      "why 1 3\n",
      "should 1 6\n",
      "be 2 2\n",
      "no 1 2\n",
      "reason 1 6\n",
      "it 7 2\n",
      "ve 2 2\n",
      "gotta 2 5\n",
      "go 2 2\n",
      "sometime 1 8\n",
      "if 3 2\n",
      "can 2 3\n",
      "hear 1 4\n",
      "this 1 4\n",
      "whispering 1 10\n",
      "are 1 3\n",
      "here 1 4\n",
      "dear 1 4\n",
      "boy 3 3\n",
      "have 2 4\n",
      "cigar 1 5\n",
      "re 7 2\n",
      "gonna 5 5\n",
      "far 1 3\n",
      "fly 1 3\n",
      "never 1 5\n",
      "die 1 3\n",
      "make 1 4\n",
      "try 1 3\n",
      "they 1 4\n",
      "love 1 4\n",
      "always 1 6\n",
      "had 1 3\n",
      "deep 1 4\n",
      "respect 1 7\n",
      "mean 1 4\n",
      "that 2 4\n",
      "most 1 4\n",
      "sincere 1 7\n",
      "band 1 4\n",
      "is 3 2\n",
      "just 3 4\n",
      "fantastic 1 9\n",
      "really 1 6\n",
      "what 1 4\n",
      "think 1 5\n",
      "oh 1 2\n",
      "way 1 3\n",
      "which 1 5\n",
      "one 1 3\n",
      "pink 1 4\n",
      "did 2 3\n",
      "we 9 2\n",
      "tell 2 4\n",
      "name 2 4\n",
      "game 2 4\n",
      "call 2 4\n",
      "riding 2 6\n",
      "gravy 2 5\n",
      "train 2 5\n",
      "knocked 1 7\n",
      "heard 1 5\n",
      "about 1 5\n",
      "sell 1 4\n",
      "get 1 3\n",
      "an 1 2\n",
      "album 1 5\n",
      "owe 1 3\n",
      "to 1 2\n",
      "people 1 6\n",
      "so 1 2\n",
      "happy 1 5\n",
      "hardly 1 6\n",
      "count 1 5\n",
      "everybody 1 9\n",
      "else 1 4\n",
      "green 1 5\n",
      "seen 1 4\n",
      "chart 1 5\n",
      "helluva 1 7\n",
      "start 1 5\n",
      "could 1 5\n",
      "made 1 4\n",
      "into 1 4\n",
      "monster 1 7\n",
      "all 1 3\n",
      "pull 1 4\n",
      "together 1 8\n",
      "as 1 2\n",
      "team 1 4\n"
     ]
    }
   ],
   "source": [
    "num_new = []\n",
    "words_len = []\n",
    "word_list = []\n",
    "\n",
    "for words in frequency_list:\n",
    "    frnum_new = frequency[words]\n",
    "    num_new.append(frnum_new)\n",
    "    word_list_each = words\n",
    "    word_list.append(word_list_each)\n",
    "    words_len_each = len(words)\n",
    "    words_len.append(words_len_each)\n",
    "    print(words, frequency[words], words_len_each)"
   ]
  },
  {
   "cell_type": "code",
   "execution_count": 36,
   "id": "f0de2c54",
   "metadata": {},
   "outputs": [],
   "source": [
    "total_words_new = sum(num_new)"
   ]
  },
  {
   "cell_type": "code",
   "execution_count": 37,
   "id": "ff4c7548",
   "metadata": {},
   "outputs": [
    {
     "name": "stdout",
     "output_type": "stream",
     "text": [
      "Number of words in lyrics of a song: 320\n"
     ]
    }
   ],
   "source": [
    "print('Number of words in lyrics of a song:', total_words_new)"
   ]
  },
  {
   "cell_type": "code",
   "execution_count": 38,
   "id": "9d645fb5",
   "metadata": {},
   "outputs": [
    {
     "name": "stdout",
     "output_type": "stream",
     "text": [
      "Average number of words in lyrics of a song: 106.66666666666667\n"
     ]
    }
   ],
   "source": [
    "average_lyrics_words_new = total_words_new / 3\n",
    "print('Average number of words in lyrics of a song:', average_lyrics_words_new)"
   ]
  },
  {
   "cell_type": "code",
   "execution_count": 39,
   "id": "c3c2eeb8",
   "metadata": {},
   "outputs": [
    {
     "name": "stdout",
     "output_type": "stream",
     "text": [
      "Maximum length of words:  10\n",
      "Minimum length of words:  2\n"
     ]
    }
   ],
   "source": [
    "maximum_length = max(words_len)\n",
    "minimum_length = min(words_len)\n",
    "print('Maximum length of words: ', maximum_length)\n",
    "print('Minimum length of words: ', minimum_length)"
   ]
  },
  {
   "cell_type": "code",
   "execution_count": 40,
   "id": "2c78fb20",
   "metadata": {},
   "outputs": [
    {
     "name": "stdout",
     "output_type": "stream",
     "text": [
      "Variance in length of words:  3.5985396129974445\n",
      "Standard Deviation in length of words:  1.8969817112975667\n"
     ]
    }
   ],
   "source": [
    "var_length = stat.variance(words_len)\n",
    "print('Variance in length of words: ', var_length)\n",
    "std_length = stat.stdev(words_len)\n",
    "print('Standard Deviation in length of words: ', std_length)"
   ]
  },
  {
   "cell_type": "markdown",
   "id": "a24f362c",
   "metadata": {},
   "source": [
    "#### Descriptive Statistics"
   ]
  },
  {
   "cell_type": "code",
   "execution_count": 41,
   "id": "6d51af86",
   "metadata": {},
   "outputs": [
    {
     "data": {
      "text/plain": [
       "DescribeResult(nobs=166, minmax=(2, 10), mean=4.602409638554217, variance=3.598539612997445, skewness=0.7860063240303573, kurtosis=0.2837486169028862)"
      ]
     },
     "execution_count": 41,
     "metadata": {},
     "output_type": "execute_result"
    }
   ],
   "source": [
    "descriptive_lenresults = scipy.stats.describe(words_len, ddof=1, bias=False)\n",
    "descriptive_lenresults"
   ]
  },
  {
   "cell_type": "code",
   "execution_count": 42,
   "id": "2edef4c7",
   "metadata": {},
   "outputs": [
    {
     "data": {
      "text/plain": [
       "array([[ 3.59853961, -1.29558233],\n",
       "       [-1.29558233, 10.06746988]])"
      ]
     },
     "execution_count": 42,
     "metadata": {},
     "output_type": "execute_result"
    }
   ],
   "source": [
    "#this does not actually make sense but just sth that can be explored\n",
    "#covariance between length of words and frequency of words\n",
    "cov_matrix = np.cov(words_len, num_new)\n",
    "cov_matrix"
   ]
  },
  {
   "cell_type": "code",
   "execution_count": 43,
   "id": "6d1e5968",
   "metadata": {
    "scrolled": true
   },
   "outputs": [
    {
     "name": "stdout",
     "output_type": "stream",
     "text": [
      "[2, 2, 2, 2, 2, 2, 2, 2, 2, 2, 2, 2, 2, 2, 2, 2, 2, 2, 2, 2, 2, 3, 3, 3, 3, 3, 3, 3, 3, 3, 3, 3, 3, 3, 3, 3, 3, 3, 3, 3, 3, 3, 3, 3, 3, 3, 3, 3, 4, 4, 4, 4, 4, 4, 4, 4, 4, 4, 4, 4, 4, 4, 4, 4, 4, 4, 4, 4, 4, 4, 4, 4, 4, 4, 4, 4, 4, 4, 4, 4, 4, 4, 4, 4, 4, 4, 4, 4, 4, 4, 4, 4, 5, 5, 5, 5, 5, 5, 5, 5, 5, 5, 5, 5, 5, 5, 5, 5, 5, 5, 5, 5, 5, 5, 5, 5, 5, 5, 5, 5, 5, 5, 5, 5, 6, 6, 6, 6, 6, 6, 6, 6, 6, 6, 6, 6, 6, 6, 7, 7, 7, 7, 7, 7, 7, 7, 7, 7, 7, 7, 7, 7, 8, 8, 8, 8, 8, 8, 9, 9, 9, 9, 9, 10, 10, 10]\n"
     ]
    }
   ],
   "source": [
    "words_len_sort = sorted(words_len) #either\n",
    "print(words_len_sort)"
   ]
  },
  {
   "cell_type": "markdown",
   "id": "13a5d0fa",
   "metadata": {},
   "source": [
    "##### this means actually maximum length of words occur three times"
   ]
  },
  {
   "cell_type": "code",
   "execution_count": 44,
   "id": "902efbb1",
   "metadata": {},
   "outputs": [],
   "source": [
    "n10, n9, n8, n7, n6, n5, n4, n3, n2 = words_len_sort.count(10), words_len_sort.count(9), words_len_sort.count(8), words_len_sort.count(7), words_len_sort.count(6), words_len_sort.count(5), words_len_sort.count(4), words_len_sort.count(3), words_len_sort.count(2)"
   ]
  },
  {
   "cell_type": "code",
   "execution_count": 45,
   "id": "d86095bf",
   "metadata": {},
   "outputs": [],
   "source": [
    "n_others = n2+n3+n4"
   ]
  },
  {
   "cell_type": "markdown",
   "id": "33e65b65",
   "metadata": {},
   "source": [
    "##### Pie Chart for representing the length of the characters"
   ]
  },
  {
   "cell_type": "code",
   "execution_count": 47,
   "id": "96e17f3b",
   "metadata": {},
   "outputs": [
    {
     "data": {
      "image/png": "[encoded data removed]",
      "text/plain": [
       "<Figure size 432x288 with 1 Axes>"
      ]
     },
     "metadata": {},
     "output_type": "display_data"
    }
   ],
   "source": [
    "t, u, v, w, x, y, z = n10, n9, n8, n7, n6, n5, n_others \n",
    "fig, ax = plt.subplots()\n",
    "ax.pie((t, u, v, w, x, y, z), labels=('10', '9', '8', '7', '6', '5', 'smaller_characters'), autopct='%1.1f%%')\n",
    "ax.set_title('Length of Characters')\n",
    "plt.show()"
   ]
  },
  {
   "cell_type": "code",
   "execution_count": 48,
   "id": "809a1c89",
   "metadata": {},
   "outputs": [],
   "source": [
    "#positions when the character lengths occur\n",
    "m1 = 10 #10 characters and so on\n",
    "m2 = 9 \n",
    "m3 = 8\n",
    "m4 = 7\n",
    "m5 = 6\n",
    "m6 = 5\n",
    "m7 = 4\n",
    "m8 = 3\n",
    "m9 = 2"
   ]
  },
  {
   "cell_type": "code",
   "execution_count": 49,
   "id": "ba7c71e9",
   "metadata": {},
   "outputs": [
    {
     "data": {
      "text/plain": [
       "[45, 68, 90]"
      ]
     },
     "execution_count": 49,
     "metadata": {},
     "output_type": "execute_result"
    }
   ],
   "source": [
    "[i for i, j in enumerate(words_len) if j == m1] #index of words of 10 characters"
   ]
  },
  {
   "cell_type": "code",
   "execution_count": 50,
   "id": "6eede4fd",
   "metadata": {},
   "outputs": [
    {
     "data": {
      "text/plain": [
       "[23, 25, 58, 118, 150]"
      ]
     },
     "execution_count": 50,
     "metadata": {},
     "output_type": "execute_result"
    }
   ],
   "source": [
    "[i for i, j in enumerate(words_len) if j == m2]"
   ]
  },
  {
   "cell_type": "code",
   "execution_count": 51,
   "id": "5adbfcdd",
   "metadata": {},
   "outputs": [
    {
     "data": {
      "text/plain": [
       "[0, 35, 36, 65, 85, 163]"
      ]
     },
     "execution_count": 51,
     "metadata": {},
     "output_type": "execute_result"
    }
   ],
   "source": [
    "[i for i, j in enumerate(words_len) if j == m3]"
   ]
  },
  {
   "cell_type": "code",
   "execution_count": 66,
   "id": "5aad70ca",
   "metadata": {},
   "outputs": [
    {
     "data": {
      "text/plain": [
       "[12, 27, 34, 39, 47, 50, 55, 62, 63, 110, 114, 136, 155, 160]"
      ]
     },
     "execution_count": 66,
     "metadata": {},
     "output_type": "execute_result"
    }
   ],
   "source": [
    "[i for i, j in enumerate(words_len) if j == m4]"
   ]
  },
  {
   "cell_type": "code",
   "execution_count": 67,
   "id": "3d1ab214",
   "metadata": {},
   "outputs": [
    {
     "data": {
      "text/plain": [
       "[22, 30, 32, 37, 38, 40, 57, 77, 80, 107, 119, 133, 145, 148]"
      ]
     },
     "execution_count": 67,
     "metadata": {},
     "output_type": "execute_result"
    }
   ],
   "source": [
    "[i for i, j in enumerate(words_len) if j == m5]"
   ]
  },
  {
   "cell_type": "code",
   "execution_count": 52,
   "id": "388a1b0e",
   "metadata": {
    "scrolled": true
   },
   "outputs": [],
   "source": [
    "match_pattern_new_arr = np.array(match_pattern_new)"
   ]
  },
  {
   "cell_type": "code",
   "execution_count": 53,
   "id": "35f7319a",
   "metadata": {},
   "outputs": [
    {
     "data": {
      "text/plain": [
       "array(['remember', 'when', 'you', 'were', 'young', 'shone', 'like', 'the',\n",
       "       'sun', 'shine', 'on', 'crazy', 'diamond', 'now', 'there', 'look',\n",
       "       'in', 'your', 'eyes', 'black', 'holes', 'sky', 'caught',\n",
       "       'crossfire', 'of', 'childhood', 'and', 'stardom', 'blown', 'steel',\n",
       "       'breeze', 'come', 'target', 'for', 'faraway', 'laughter',\n",
       "       'stranger', 'legend', 'martyr', 'reached', 'secret', 'too', 'soon',\n",
       "       'cried', 'moon', 'threatened', 'by', 'shadows', 'at', 'night',\n",
       "       'exposed', 'light', 'well', 'wore', 'out', 'welcome', 'with',\n",
       "       'random', 'precision', 'rode', 'raver', 'seer', 'visions',\n",
       "       'painter', 'piper', 'prisoner', 'am', 'not', 'frightened', 'dying',\n",
       "       'any', 'time', 'will', 'do', 'don', 'mind', 'why', 'should', 'be',\n",
       "       'no', 'reason', 'it', 've', 'gotta', 'go', 'sometime', 'if', 'can',\n",
       "       'hear', 'this', 'whispering', 'are', 'here', 'dear', 'boy', 'have',\n",
       "       'cigar', 're', 'gonna', 'far', 'fly', 'never', 'die', 'make',\n",
       "       'try', 'they', 'love', 'always', 'had', 'deep', 'respect', 'mean',\n",
       "       'that', 'most', 'sincere', 'band', 'is', 'just', 'fantastic',\n",
       "       'really', 'what', 'think', 'oh', 'way', 'which', 'one', 'pink',\n",
       "       'did', 'we', 'tell', 'name', 'game', 'call', 'riding', 'gravy',\n",
       "       'train', 'knocked', 'heard', 'about', 'sell', 'get', 'an', 'album',\n",
       "       'owe', 'to', 'people', 'so', 'happy', 'hardly', 'count',\n",
       "       'everybody', 'else', 'green', 'seen', 'chart', 'helluva', 'start',\n",
       "       'could', 'made', 'into', 'monster', 'all', 'pull', 'together',\n",
       "       'as', 'team'], dtype='<U10')"
      ]
     },
     "execution_count": 53,
     "metadata": {},
     "output_type": "execute_result"
    }
   ],
   "source": [
    "word_list_arr = np.array(word_list)\n",
    "word_list_arr"
   ]
  },
  {
   "cell_type": "code",
   "execution_count": 54,
   "id": "f58fb70b",
   "metadata": {},
   "outputs": [],
   "source": [
    "words_len_arr = np.array(words_len)"
   ]
  },
  {
   "cell_type": "code",
   "execution_count": 65,
   "id": "63bbda13",
   "metadata": {},
   "outputs": [],
   "source": [
    "words_and_len = np.array([match_pattern_new_arr, words_len_arr]) #for visual representations of the words and lengths"
   ]
  },
  {
   "cell_type": "code",
   "execution_count": 66,
   "id": "563b7174",
   "metadata": {},
   "outputs": [
    {
     "data": {
      "text/plain": [
       "['threatened', 'frightened', 'whispering']"
      ]
     },
     "execution_count": 66,
     "metadata": {},
     "output_type": "execute_result"
    }
   ],
   "source": [
    "#words with 10 characters\n",
    "\n",
    "maxlenwords1_10c = word_list_arr[45]\n",
    "maxlenwords2_10c = word_list_arr[68]\n",
    "maxlenwords3_10c = word_list_arr[90]\n",
    "maxlenwords10c = [maxlenwords1_10c, maxlenwords2_10c, maxlenwords3_10c]\n",
    "maxlenwords10c"
   ]
  },
  {
   "cell_type": "code",
   "execution_count": 67,
   "id": "703352e3",
   "metadata": {},
   "outputs": [
    {
     "data": {
      "text/plain": [
       "['crossfire', 'childhood', 'precision', 'fantastic', 'everybody']"
      ]
     },
     "execution_count": 67,
     "metadata": {},
     "output_type": "execute_result"
    }
   ],
   "source": [
    "#words with 9 characters\n",
    "\n",
    "maxlenwords1_9c = word_list_arr[23]\n",
    "maxlenwords2_9c = word_list_arr[25]\n",
    "maxlenwords3_9c = word_list_arr[58]\n",
    "maxlenwords4_9c = word_list_arr[118]\n",
    "maxlenwords5_9c = word_list_arr[150]\n",
    "maxlenwords9c = [maxlenwords1_9c, maxlenwords2_9c, maxlenwords3_9c, maxlenwords4_9c, maxlenwords5_9c]\n",
    "maxlenwords9c"
   ]
  },
  {
   "cell_type": "markdown",
   "id": "9631db17",
   "metadata": {},
   "source": [
    "## The above data can be analysed with several other statistical methods and visual presentations to compare them more broadly and to understand the patterns better."
   ]
  },
  {
   "cell_type": "code",
   "execution_count": null,
   "id": "b328971b",
   "metadata": {},
   "outputs": [],
   "source": []
  },
  {
   "cell_type": "code",
   "execution_count": null,
   "id": "2a59bc45",
   "metadata": {},
   "outputs": [],
   "source": []
  },
  {
   "cell_type": "code",
   "execution_count": null,
   "id": "7e26e8cf",
   "metadata": {},
   "outputs": [],
   "source": []
  }
 ],
 "metadata": {
  "kernelspec": {
   "display_name": "Python 3",
   "language": "python",
   "name": "python3"
  },
  "language_info": {
   "codemirror_mode": {
    "name": "ipython",
    "version": 3
   },
   "file_extension": ".py",
   "mimetype": "text/x-python",
   "name": "python",
   "nbconvert_exporter": "python",
   "pygments_lexer": "ipython3",
   "version": "3.8.8"
  }
 },
 "nbformat": 4,
 "nbformat_minor": 5
}
